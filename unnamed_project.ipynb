{
 "cells": [
  {
   "cell_type": "code",
   "execution_count": 15,
   "metadata": {
    "collapsed": true
   },
   "outputs": [],
   "source": [
    "import numpy as np\n",
    "import pandas as pd"
   ]
  },
  {
   "cell_type": "code",
   "execution_count": 26,
   "outputs": [],
   "source": [
    "df = pd.read_csv(\"./Data/titles.csv\")\n",
    "df2 = pd.read_csv(\"./Data/credits.csv\")"
   ],
   "metadata": {
    "collapsed": false
   }
  },
  {
   "cell_type": "code",
   "execution_count": 27,
   "outputs": [
    {
     "data": {
      "text/plain": "             id                                      title   type  \\\n0      ts300399        Five Came Back: The Reference Films   SHOW   \n1       tm84618                                Taxi Driver  MOVIE   \n2      tm154986                                Deliverance  MOVIE   \n3      tm127384            Monty Python and the Holy Grail  MOVIE   \n4      tm120801                            The Dirty Dozen  MOVIE   \n...         ...                                        ...    ...   \n5845  tm1014599                                  Fine Wine  MOVIE   \n5846   tm898842                                C/O Kaadhal  MOVIE   \n5847  tm1059008                                    Lokillo  MOVIE   \n5848  tm1035612  Dad Stop Embarrassing Me - The Afterparty  MOVIE   \n5849   ts271048         Mighty Little Bheem: Kite Festival   SHOW   \n\n                                            description  release_year  \\\n0     This collection includes 12 World War II-era p...          1945   \n1     A mentally unstable Vietnam War veteran works ...          1976   \n2     Intent on seeing the Cahulawassee River before...          1972   \n3     King Arthur, accompanied by his squire, recrui...          1975   \n4     12 American military prisoners in World War II...          1967   \n...                                                 ...           ...   \n5845  A beautiful love story that can happen between...          2021   \n5846  A heart warming film that explores the concept...          2021   \n5847  A controversial TV host and comedian who has b...          2021   \n5848  Jamie Foxx, David Alan Grier and more from the...          2021   \n5849  With winter behind them, Bheem and his townspe...          2021   \n\n     age_certification  runtime                                       genres  \\\n0                TV-MA       51                            ['documentation']   \n1                    R      114                           ['drama', 'crime']   \n2                    R      109  ['drama', 'action', 'thriller', 'european']   \n3                   PG       91              ['fantasy', 'action', 'comedy']   \n4                  NaN      150                            ['war', 'action']   \n...                ...      ...                                          ...   \n5845               NaN      100                         ['romance', 'drama']   \n5846               NaN      134                                    ['drama']   \n5847               NaN       90                                   ['comedy']   \n5848             PG-13       37                                           []   \n5849               NaN        7            ['family', 'animation', 'comedy']   \n\n     production_countries  seasons     imdb_id  imdb_score  imdb_votes  \\\n0                  ['US']      1.0         NaN         NaN         NaN   \n1                  ['US']      NaN   tt0075314         8.2    808582.0   \n2                  ['US']      NaN   tt0068473         7.7    107673.0   \n3                  ['GB']      NaN   tt0071853         8.2    534486.0   \n4            ['GB', 'US']      NaN   tt0061578         7.7     72662.0   \n...                   ...      ...         ...         ...         ...   \n5845               ['NG']      NaN  tt13857480         6.8        45.0   \n5846                   []      NaN  tt11803618         7.7       348.0   \n5847               ['CO']      NaN  tt14585902         3.8        68.0   \n5848               ['US']      NaN         NaN         NaN         NaN   \n5849                   []      1.0  tt13711094         7.8        18.0   \n\n      tmdb_popularity  tmdb_score  \n0               0.600         NaN  \n1              40.965       8.179  \n2              10.010       7.300  \n3              15.461       7.811  \n4              20.398       7.600  \n...               ...         ...  \n5845            1.466         NaN  \n5846              NaN         NaN  \n5847           26.005       6.300  \n5848            1.296      10.000  \n5849            2.289      10.000  \n\n[5850 rows x 15 columns]",
      "text/html": "<div>\n<style scoped>\n    .dataframe tbody tr th:only-of-type {\n        vertical-align: middle;\n    }\n\n    .dataframe tbody tr th {\n        vertical-align: top;\n    }\n\n    .dataframe thead th {\n        text-align: right;\n    }\n</style>\n<table border=\"1\" class=\"dataframe\">\n  <thead>\n    <tr style=\"text-align: right;\">\n      <th></th>\n      <th>id</th>\n      <th>title</th>\n      <th>type</th>\n      <th>description</th>\n      <th>release_year</th>\n      <th>age_certification</th>\n      <th>runtime</th>\n      <th>genres</th>\n      <th>production_countries</th>\n      <th>seasons</th>\n      <th>imdb_id</th>\n      <th>imdb_score</th>\n      <th>imdb_votes</th>\n      <th>tmdb_popularity</th>\n      <th>tmdb_score</th>\n    </tr>\n  </thead>\n  <tbody>\n    <tr>\n      <th>0</th>\n      <td>ts300399</td>\n      <td>Five Came Back: The Reference Films</td>\n      <td>SHOW</td>\n      <td>This collection includes 12 World War II-era p...</td>\n      <td>1945</td>\n      <td>TV-MA</td>\n      <td>51</td>\n      <td>['documentation']</td>\n      <td>['US']</td>\n      <td>1.0</td>\n      <td>NaN</td>\n      <td>NaN</td>\n      <td>NaN</td>\n      <td>0.600</td>\n      <td>NaN</td>\n    </tr>\n    <tr>\n      <th>1</th>\n      <td>tm84618</td>\n      <td>Taxi Driver</td>\n      <td>MOVIE</td>\n      <td>A mentally unstable Vietnam War veteran works ...</td>\n      <td>1976</td>\n      <td>R</td>\n      <td>114</td>\n      <td>['drama', 'crime']</td>\n      <td>['US']</td>\n      <td>NaN</td>\n      <td>tt0075314</td>\n      <td>8.2</td>\n      <td>808582.0</td>\n      <td>40.965</td>\n      <td>8.179</td>\n    </tr>\n    <tr>\n      <th>2</th>\n      <td>tm154986</td>\n      <td>Deliverance</td>\n      <td>MOVIE</td>\n      <td>Intent on seeing the Cahulawassee River before...</td>\n      <td>1972</td>\n      <td>R</td>\n      <td>109</td>\n      <td>['drama', 'action', 'thriller', 'european']</td>\n      <td>['US']</td>\n      <td>NaN</td>\n      <td>tt0068473</td>\n      <td>7.7</td>\n      <td>107673.0</td>\n      <td>10.010</td>\n      <td>7.300</td>\n    </tr>\n    <tr>\n      <th>3</th>\n      <td>tm127384</td>\n      <td>Monty Python and the Holy Grail</td>\n      <td>MOVIE</td>\n      <td>King Arthur, accompanied by his squire, recrui...</td>\n      <td>1975</td>\n      <td>PG</td>\n      <td>91</td>\n      <td>['fantasy', 'action', 'comedy']</td>\n      <td>['GB']</td>\n      <td>NaN</td>\n      <td>tt0071853</td>\n      <td>8.2</td>\n      <td>534486.0</td>\n      <td>15.461</td>\n      <td>7.811</td>\n    </tr>\n    <tr>\n      <th>4</th>\n      <td>tm120801</td>\n      <td>The Dirty Dozen</td>\n      <td>MOVIE</td>\n      <td>12 American military prisoners in World War II...</td>\n      <td>1967</td>\n      <td>NaN</td>\n      <td>150</td>\n      <td>['war', 'action']</td>\n      <td>['GB', 'US']</td>\n      <td>NaN</td>\n      <td>tt0061578</td>\n      <td>7.7</td>\n      <td>72662.0</td>\n      <td>20.398</td>\n      <td>7.600</td>\n    </tr>\n    <tr>\n      <th>...</th>\n      <td>...</td>\n      <td>...</td>\n      <td>...</td>\n      <td>...</td>\n      <td>...</td>\n      <td>...</td>\n      <td>...</td>\n      <td>...</td>\n      <td>...</td>\n      <td>...</td>\n      <td>...</td>\n      <td>...</td>\n      <td>...</td>\n      <td>...</td>\n      <td>...</td>\n    </tr>\n    <tr>\n      <th>5845</th>\n      <td>tm1014599</td>\n      <td>Fine Wine</td>\n      <td>MOVIE</td>\n      <td>A beautiful love story that can happen between...</td>\n      <td>2021</td>\n      <td>NaN</td>\n      <td>100</td>\n      <td>['romance', 'drama']</td>\n      <td>['NG']</td>\n      <td>NaN</td>\n      <td>tt13857480</td>\n      <td>6.8</td>\n      <td>45.0</td>\n      <td>1.466</td>\n      <td>NaN</td>\n    </tr>\n    <tr>\n      <th>5846</th>\n      <td>tm898842</td>\n      <td>C/O Kaadhal</td>\n      <td>MOVIE</td>\n      <td>A heart warming film that explores the concept...</td>\n      <td>2021</td>\n      <td>NaN</td>\n      <td>134</td>\n      <td>['drama']</td>\n      <td>[]</td>\n      <td>NaN</td>\n      <td>tt11803618</td>\n      <td>7.7</td>\n      <td>348.0</td>\n      <td>NaN</td>\n      <td>NaN</td>\n    </tr>\n    <tr>\n      <th>5847</th>\n      <td>tm1059008</td>\n      <td>Lokillo</td>\n      <td>MOVIE</td>\n      <td>A controversial TV host and comedian who has b...</td>\n      <td>2021</td>\n      <td>NaN</td>\n      <td>90</td>\n      <td>['comedy']</td>\n      <td>['CO']</td>\n      <td>NaN</td>\n      <td>tt14585902</td>\n      <td>3.8</td>\n      <td>68.0</td>\n      <td>26.005</td>\n      <td>6.300</td>\n    </tr>\n    <tr>\n      <th>5848</th>\n      <td>tm1035612</td>\n      <td>Dad Stop Embarrassing Me - The Afterparty</td>\n      <td>MOVIE</td>\n      <td>Jamie Foxx, David Alan Grier and more from the...</td>\n      <td>2021</td>\n      <td>PG-13</td>\n      <td>37</td>\n      <td>[]</td>\n      <td>['US']</td>\n      <td>NaN</td>\n      <td>NaN</td>\n      <td>NaN</td>\n      <td>NaN</td>\n      <td>1.296</td>\n      <td>10.000</td>\n    </tr>\n    <tr>\n      <th>5849</th>\n      <td>ts271048</td>\n      <td>Mighty Little Bheem: Kite Festival</td>\n      <td>SHOW</td>\n      <td>With winter behind them, Bheem and his townspe...</td>\n      <td>2021</td>\n      <td>NaN</td>\n      <td>7</td>\n      <td>['family', 'animation', 'comedy']</td>\n      <td>[]</td>\n      <td>1.0</td>\n      <td>tt13711094</td>\n      <td>7.8</td>\n      <td>18.0</td>\n      <td>2.289</td>\n      <td>10.000</td>\n    </tr>\n  </tbody>\n</table>\n<p>5850 rows × 15 columns</p>\n</div>"
     },
     "execution_count": 27,
     "metadata": {},
     "output_type": "execute_result"
    }
   ],
   "source": [
    "df"
   ],
   "metadata": {
    "collapsed": false
   }
  },
  {
   "cell_type": "code",
   "execution_count": 28,
   "outputs": [
    {
     "data": {
      "text/plain": "       person_id         id                name                character  \\\n0           3748    tm84618      Robert De Niro            Travis Bickle   \n1          14658    tm84618        Jodie Foster            Iris Steensma   \n2           7064    tm84618       Albert Brooks                      Tom   \n3           3739    tm84618       Harvey Keitel  Matthew 'Sport' Higgins   \n4          48933    tm84618     Cybill Shepherd                    Betsy   \n...          ...        ...                 ...                      ...   \n77796     736339  tm1059008    Adelaida Buscato                María Paz   \n77797     399499  tm1059008  Luz Stella Luengas             Karen Bayona   \n77798     373198  tm1059008         Inés Prieto                    Fanny   \n77799     378132  tm1059008        Isabel Gaona                   Cacica   \n77800    1950416  tm1059008      Julian Gaviria                      NaN   \n\n           role  \n0         ACTOR  \n1         ACTOR  \n2         ACTOR  \n3         ACTOR  \n4         ACTOR  \n...         ...  \n77796     ACTOR  \n77797     ACTOR  \n77798     ACTOR  \n77799     ACTOR  \n77800  DIRECTOR  \n\n[77801 rows x 5 columns]",
      "text/html": "<div>\n<style scoped>\n    .dataframe tbody tr th:only-of-type {\n        vertical-align: middle;\n    }\n\n    .dataframe tbody tr th {\n        vertical-align: top;\n    }\n\n    .dataframe thead th {\n        text-align: right;\n    }\n</style>\n<table border=\"1\" class=\"dataframe\">\n  <thead>\n    <tr style=\"text-align: right;\">\n      <th></th>\n      <th>person_id</th>\n      <th>id</th>\n      <th>name</th>\n      <th>character</th>\n      <th>role</th>\n    </tr>\n  </thead>\n  <tbody>\n    <tr>\n      <th>0</th>\n      <td>3748</td>\n      <td>tm84618</td>\n      <td>Robert De Niro</td>\n      <td>Travis Bickle</td>\n      <td>ACTOR</td>\n    </tr>\n    <tr>\n      <th>1</th>\n      <td>14658</td>\n      <td>tm84618</td>\n      <td>Jodie Foster</td>\n      <td>Iris Steensma</td>\n      <td>ACTOR</td>\n    </tr>\n    <tr>\n      <th>2</th>\n      <td>7064</td>\n      <td>tm84618</td>\n      <td>Albert Brooks</td>\n      <td>Tom</td>\n      <td>ACTOR</td>\n    </tr>\n    <tr>\n      <th>3</th>\n      <td>3739</td>\n      <td>tm84618</td>\n      <td>Harvey Keitel</td>\n      <td>Matthew 'Sport' Higgins</td>\n      <td>ACTOR</td>\n    </tr>\n    <tr>\n      <th>4</th>\n      <td>48933</td>\n      <td>tm84618</td>\n      <td>Cybill Shepherd</td>\n      <td>Betsy</td>\n      <td>ACTOR</td>\n    </tr>\n    <tr>\n      <th>...</th>\n      <td>...</td>\n      <td>...</td>\n      <td>...</td>\n      <td>...</td>\n      <td>...</td>\n    </tr>\n    <tr>\n      <th>77796</th>\n      <td>736339</td>\n      <td>tm1059008</td>\n      <td>Adelaida Buscato</td>\n      <td>María Paz</td>\n      <td>ACTOR</td>\n    </tr>\n    <tr>\n      <th>77797</th>\n      <td>399499</td>\n      <td>tm1059008</td>\n      <td>Luz Stella Luengas</td>\n      <td>Karen Bayona</td>\n      <td>ACTOR</td>\n    </tr>\n    <tr>\n      <th>77798</th>\n      <td>373198</td>\n      <td>tm1059008</td>\n      <td>Inés Prieto</td>\n      <td>Fanny</td>\n      <td>ACTOR</td>\n    </tr>\n    <tr>\n      <th>77799</th>\n      <td>378132</td>\n      <td>tm1059008</td>\n      <td>Isabel Gaona</td>\n      <td>Cacica</td>\n      <td>ACTOR</td>\n    </tr>\n    <tr>\n      <th>77800</th>\n      <td>1950416</td>\n      <td>tm1059008</td>\n      <td>Julian Gaviria</td>\n      <td>NaN</td>\n      <td>DIRECTOR</td>\n    </tr>\n  </tbody>\n</table>\n<p>77801 rows × 5 columns</p>\n</div>"
     },
     "execution_count": 28,
     "metadata": {},
     "output_type": "execute_result"
    }
   ],
   "source": [
    "df2"
   ],
   "metadata": {
    "collapsed": false
   }
  },
  {
   "cell_type": "code",
   "execution_count": 35,
   "outputs": [
    {
     "data": {
      "text/plain": "       person_id         id             name character      role\n36          3308    tm84618  Martin Scorsese       NaN  DIRECTOR\n59         17727   tm154986     John Boorman       NaN  DIRECTOR\n106        11475   tm127384      Terry Jones       NaN  DIRECTOR\n107        11473   tm127384    Terry Gilliam       NaN  DIRECTOR\n162         1063   tm120801   Robert Aldrich       NaN  DIRECTOR\n...          ...        ...              ...       ...       ...\n77745    1785287  tm1216735       Joe Penney       NaN  DIRECTOR\n77761     753271   tm985215   Barry Gonzalez       NaN  DIRECTOR\n77777    1827884  tm1097142    Mohamed Bakir       NaN  DIRECTOR\n77789    1962840  tm1014599    Seyi Babatope       NaN  DIRECTOR\n77800    1950416  tm1059008   Julian Gaviria       NaN  DIRECTOR\n\n[4550 rows x 5 columns]",
      "text/html": "<div>\n<style scoped>\n    .dataframe tbody tr th:only-of-type {\n        vertical-align: middle;\n    }\n\n    .dataframe tbody tr th {\n        vertical-align: top;\n    }\n\n    .dataframe thead th {\n        text-align: right;\n    }\n</style>\n<table border=\"1\" class=\"dataframe\">\n  <thead>\n    <tr style=\"text-align: right;\">\n      <th></th>\n      <th>person_id</th>\n      <th>id</th>\n      <th>name</th>\n      <th>character</th>\n      <th>role</th>\n    </tr>\n  </thead>\n  <tbody>\n    <tr>\n      <th>36</th>\n      <td>3308</td>\n      <td>tm84618</td>\n      <td>Martin Scorsese</td>\n      <td>NaN</td>\n      <td>DIRECTOR</td>\n    </tr>\n    <tr>\n      <th>59</th>\n      <td>17727</td>\n      <td>tm154986</td>\n      <td>John Boorman</td>\n      <td>NaN</td>\n      <td>DIRECTOR</td>\n    </tr>\n    <tr>\n      <th>106</th>\n      <td>11475</td>\n      <td>tm127384</td>\n      <td>Terry Jones</td>\n      <td>NaN</td>\n      <td>DIRECTOR</td>\n    </tr>\n    <tr>\n      <th>107</th>\n      <td>11473</td>\n      <td>tm127384</td>\n      <td>Terry Gilliam</td>\n      <td>NaN</td>\n      <td>DIRECTOR</td>\n    </tr>\n    <tr>\n      <th>162</th>\n      <td>1063</td>\n      <td>tm120801</td>\n      <td>Robert Aldrich</td>\n      <td>NaN</td>\n      <td>DIRECTOR</td>\n    </tr>\n    <tr>\n      <th>...</th>\n      <td>...</td>\n      <td>...</td>\n      <td>...</td>\n      <td>...</td>\n      <td>...</td>\n    </tr>\n    <tr>\n      <th>77745</th>\n      <td>1785287</td>\n      <td>tm1216735</td>\n      <td>Joe Penney</td>\n      <td>NaN</td>\n      <td>DIRECTOR</td>\n    </tr>\n    <tr>\n      <th>77761</th>\n      <td>753271</td>\n      <td>tm985215</td>\n      <td>Barry Gonzalez</td>\n      <td>NaN</td>\n      <td>DIRECTOR</td>\n    </tr>\n    <tr>\n      <th>77777</th>\n      <td>1827884</td>\n      <td>tm1097142</td>\n      <td>Mohamed Bakir</td>\n      <td>NaN</td>\n      <td>DIRECTOR</td>\n    </tr>\n    <tr>\n      <th>77789</th>\n      <td>1962840</td>\n      <td>tm1014599</td>\n      <td>Seyi Babatope</td>\n      <td>NaN</td>\n      <td>DIRECTOR</td>\n    </tr>\n    <tr>\n      <th>77800</th>\n      <td>1950416</td>\n      <td>tm1059008</td>\n      <td>Julian Gaviria</td>\n      <td>NaN</td>\n      <td>DIRECTOR</td>\n    </tr>\n  </tbody>\n</table>\n<p>4550 rows × 5 columns</p>\n</div>"
     },
     "execution_count": 35,
     "metadata": {},
     "output_type": "execute_result"
    }
   ],
   "source": [
    "df2[df2[\"role\"] == \"DIRECTOR\"]"
   ],
   "metadata": {
    "collapsed": false
   }
  },
  {
   "cell_type": "code",
   "execution_count": 48,
   "outputs": [
    {
     "data": {
      "text/plain": "             id                            title   type  \\\n0       tm84618                      Taxi Driver  MOVIE   \n1      tm154986                      Deliverance  MOVIE   \n2      tm127384  Monty Python and the Holy Grail  MOVIE   \n3      tm127384  Monty Python and the Holy Grail  MOVIE   \n4      tm120801                  The Dirty Dozen  MOVIE   \n...         ...                              ...    ...   \n4545  tm1216735                  Sun of the Soil  MOVIE   \n4546   tm985215             Princess 'Daya'Reese  MOVIE   \n4547  tm1097142                         My Bride  MOVIE   \n4548  tm1014599                        Fine Wine  MOVIE   \n4549  tm1059008                          Lokillo  MOVIE   \n\n                                            description  release_year  \\\n0     A mentally unstable Vietnam War veteran works ...          1976   \n1     Intent on seeing the Cahulawassee River before...          1972   \n2     King Arthur, accompanied by his squire, recrui...          1975   \n3     King Arthur, accompanied by his squire, recrui...          1975   \n4     12 American military prisoners in World War II...          1967   \n...                                                 ...           ...   \n4545  In 14th-century Mali, an ambitious young royal...          2022   \n4546  Reese is a con artist from Manila who dreams o...          2021   \n4547  The story follows a young man and woman who go...          2021   \n4548  A beautiful love story that can happen between...          2021   \n4549  A controversial TV host and comedian who has b...          2021   \n\n     age_certification  runtime                                       genres  \\\n0                    R      114                           ['drama', 'crime']   \n1                    R      109  ['drama', 'action', 'thriller', 'european']   \n2                   PG       91              ['fantasy', 'action', 'comedy']   \n3                   PG       91              ['fantasy', 'action', 'comedy']   \n4                  NaN      150                            ['war', 'action']   \n...                ...      ...                                          ...   \n4545               NaN       26                                           []   \n4546               NaN      115                        ['comedy', 'romance']   \n4547               NaN       93               ['romance', 'comedy', 'drama']   \n4548               NaN      100                         ['romance', 'drama']   \n4549               NaN       90                                   ['comedy']   \n\n     production_countries  seasons     imdb_id  imdb_score  imdb_votes  \\\n0                  ['US']      NaN   tt0075314         8.2    808582.0   \n1                  ['US']      NaN   tt0068473         7.7    107673.0   \n2                  ['GB']      NaN   tt0071853         8.2    534486.0   \n3                  ['GB']      NaN   tt0071853         8.2    534486.0   \n4            ['GB', 'US']      NaN   tt0061578         7.7     72662.0   \n...                   ...      ...         ...         ...         ...   \n4545                   []      NaN         NaN         NaN         NaN   \n4546               ['PH']      NaN  tt13399802         7.1        50.0   \n4547               ['EG']      NaN  tt14216488         5.0       327.0   \n4548               ['NG']      NaN  tt13857480         6.8        45.0   \n4549               ['CO']      NaN  tt14585902         3.8        68.0   \n\n      tmdb_popularity  tmdb_score  person_id             name character  \\\n0              40.965       8.179       3308  Martin Scorsese       NaN   \n1              10.010       7.300      17727     John Boorman       NaN   \n2              15.461       7.811      11475      Terry Jones       NaN   \n3              15.461       7.811      11473    Terry Gilliam       NaN   \n4              20.398       7.600       1063   Robert Aldrich       NaN   \n...               ...         ...        ...              ...       ...   \n4545            1.179       7.000    1785287       Joe Penney       NaN   \n4546            1.383         NaN     753271   Barry Gonzalez       NaN   \n4547            2.545       5.300    1827884    Mohamed Bakir       NaN   \n4548            1.466         NaN    1962840    Seyi Babatope       NaN   \n4549           26.005       6.300    1950416   Julian Gaviria       NaN   \n\n          role  \n0     DIRECTOR  \n1     DIRECTOR  \n2     DIRECTOR  \n3     DIRECTOR  \n4     DIRECTOR  \n...        ...  \n4545  DIRECTOR  \n4546  DIRECTOR  \n4547  DIRECTOR  \n4548  DIRECTOR  \n4549  DIRECTOR  \n\n[4550 rows x 19 columns]",
      "text/html": "<div>\n<style scoped>\n    .dataframe tbody tr th:only-of-type {\n        vertical-align: middle;\n    }\n\n    .dataframe tbody tr th {\n        vertical-align: top;\n    }\n\n    .dataframe thead th {\n        text-align: right;\n    }\n</style>\n<table border=\"1\" class=\"dataframe\">\n  <thead>\n    <tr style=\"text-align: right;\">\n      <th></th>\n      <th>id</th>\n      <th>title</th>\n      <th>type</th>\n      <th>description</th>\n      <th>release_year</th>\n      <th>age_certification</th>\n      <th>runtime</th>\n      <th>genres</th>\n      <th>production_countries</th>\n      <th>seasons</th>\n      <th>imdb_id</th>\n      <th>imdb_score</th>\n      <th>imdb_votes</th>\n      <th>tmdb_popularity</th>\n      <th>tmdb_score</th>\n      <th>person_id</th>\n      <th>name</th>\n      <th>character</th>\n      <th>role</th>\n    </tr>\n  </thead>\n  <tbody>\n    <tr>\n      <th>0</th>\n      <td>tm84618</td>\n      <td>Taxi Driver</td>\n      <td>MOVIE</td>\n      <td>A mentally unstable Vietnam War veteran works ...</td>\n      <td>1976</td>\n      <td>R</td>\n      <td>114</td>\n      <td>['drama', 'crime']</td>\n      <td>['US']</td>\n      <td>NaN</td>\n      <td>tt0075314</td>\n      <td>8.2</td>\n      <td>808582.0</td>\n      <td>40.965</td>\n      <td>8.179</td>\n      <td>3308</td>\n      <td>Martin Scorsese</td>\n      <td>NaN</td>\n      <td>DIRECTOR</td>\n    </tr>\n    <tr>\n      <th>1</th>\n      <td>tm154986</td>\n      <td>Deliverance</td>\n      <td>MOVIE</td>\n      <td>Intent on seeing the Cahulawassee River before...</td>\n      <td>1972</td>\n      <td>R</td>\n      <td>109</td>\n      <td>['drama', 'action', 'thriller', 'european']</td>\n      <td>['US']</td>\n      <td>NaN</td>\n      <td>tt0068473</td>\n      <td>7.7</td>\n      <td>107673.0</td>\n      <td>10.010</td>\n      <td>7.300</td>\n      <td>17727</td>\n      <td>John Boorman</td>\n      <td>NaN</td>\n      <td>DIRECTOR</td>\n    </tr>\n    <tr>\n      <th>2</th>\n      <td>tm127384</td>\n      <td>Monty Python and the Holy Grail</td>\n      <td>MOVIE</td>\n      <td>King Arthur, accompanied by his squire, recrui...</td>\n      <td>1975</td>\n      <td>PG</td>\n      <td>91</td>\n      <td>['fantasy', 'action', 'comedy']</td>\n      <td>['GB']</td>\n      <td>NaN</td>\n      <td>tt0071853</td>\n      <td>8.2</td>\n      <td>534486.0</td>\n      <td>15.461</td>\n      <td>7.811</td>\n      <td>11475</td>\n      <td>Terry Jones</td>\n      <td>NaN</td>\n      <td>DIRECTOR</td>\n    </tr>\n    <tr>\n      <th>3</th>\n      <td>tm127384</td>\n      <td>Monty Python and the Holy Grail</td>\n      <td>MOVIE</td>\n      <td>King Arthur, accompanied by his squire, recrui...</td>\n      <td>1975</td>\n      <td>PG</td>\n      <td>91</td>\n      <td>['fantasy', 'action', 'comedy']</td>\n      <td>['GB']</td>\n      <td>NaN</td>\n      <td>tt0071853</td>\n      <td>8.2</td>\n      <td>534486.0</td>\n      <td>15.461</td>\n      <td>7.811</td>\n      <td>11473</td>\n      <td>Terry Gilliam</td>\n      <td>NaN</td>\n      <td>DIRECTOR</td>\n    </tr>\n    <tr>\n      <th>4</th>\n      <td>tm120801</td>\n      <td>The Dirty Dozen</td>\n      <td>MOVIE</td>\n      <td>12 American military prisoners in World War II...</td>\n      <td>1967</td>\n      <td>NaN</td>\n      <td>150</td>\n      <td>['war', 'action']</td>\n      <td>['GB', 'US']</td>\n      <td>NaN</td>\n      <td>tt0061578</td>\n      <td>7.7</td>\n      <td>72662.0</td>\n      <td>20.398</td>\n      <td>7.600</td>\n      <td>1063</td>\n      <td>Robert Aldrich</td>\n      <td>NaN</td>\n      <td>DIRECTOR</td>\n    </tr>\n    <tr>\n      <th>...</th>\n      <td>...</td>\n      <td>...</td>\n      <td>...</td>\n      <td>...</td>\n      <td>...</td>\n      <td>...</td>\n      <td>...</td>\n      <td>...</td>\n      <td>...</td>\n      <td>...</td>\n      <td>...</td>\n      <td>...</td>\n      <td>...</td>\n      <td>...</td>\n      <td>...</td>\n      <td>...</td>\n      <td>...</td>\n      <td>...</td>\n      <td>...</td>\n    </tr>\n    <tr>\n      <th>4545</th>\n      <td>tm1216735</td>\n      <td>Sun of the Soil</td>\n      <td>MOVIE</td>\n      <td>In 14th-century Mali, an ambitious young royal...</td>\n      <td>2022</td>\n      <td>NaN</td>\n      <td>26</td>\n      <td>[]</td>\n      <td>[]</td>\n      <td>NaN</td>\n      <td>NaN</td>\n      <td>NaN</td>\n      <td>NaN</td>\n      <td>1.179</td>\n      <td>7.000</td>\n      <td>1785287</td>\n      <td>Joe Penney</td>\n      <td>NaN</td>\n      <td>DIRECTOR</td>\n    </tr>\n    <tr>\n      <th>4546</th>\n      <td>tm985215</td>\n      <td>Princess 'Daya'Reese</td>\n      <td>MOVIE</td>\n      <td>Reese is a con artist from Manila who dreams o...</td>\n      <td>2021</td>\n      <td>NaN</td>\n      <td>115</td>\n      <td>['comedy', 'romance']</td>\n      <td>['PH']</td>\n      <td>NaN</td>\n      <td>tt13399802</td>\n      <td>7.1</td>\n      <td>50.0</td>\n      <td>1.383</td>\n      <td>NaN</td>\n      <td>753271</td>\n      <td>Barry Gonzalez</td>\n      <td>NaN</td>\n      <td>DIRECTOR</td>\n    </tr>\n    <tr>\n      <th>4547</th>\n      <td>tm1097142</td>\n      <td>My Bride</td>\n      <td>MOVIE</td>\n      <td>The story follows a young man and woman who go...</td>\n      <td>2021</td>\n      <td>NaN</td>\n      <td>93</td>\n      <td>['romance', 'comedy', 'drama']</td>\n      <td>['EG']</td>\n      <td>NaN</td>\n      <td>tt14216488</td>\n      <td>5.0</td>\n      <td>327.0</td>\n      <td>2.545</td>\n      <td>5.300</td>\n      <td>1827884</td>\n      <td>Mohamed Bakir</td>\n      <td>NaN</td>\n      <td>DIRECTOR</td>\n    </tr>\n    <tr>\n      <th>4548</th>\n      <td>tm1014599</td>\n      <td>Fine Wine</td>\n      <td>MOVIE</td>\n      <td>A beautiful love story that can happen between...</td>\n      <td>2021</td>\n      <td>NaN</td>\n      <td>100</td>\n      <td>['romance', 'drama']</td>\n      <td>['NG']</td>\n      <td>NaN</td>\n      <td>tt13857480</td>\n      <td>6.8</td>\n      <td>45.0</td>\n      <td>1.466</td>\n      <td>NaN</td>\n      <td>1962840</td>\n      <td>Seyi Babatope</td>\n      <td>NaN</td>\n      <td>DIRECTOR</td>\n    </tr>\n    <tr>\n      <th>4549</th>\n      <td>tm1059008</td>\n      <td>Lokillo</td>\n      <td>MOVIE</td>\n      <td>A controversial TV host and comedian who has b...</td>\n      <td>2021</td>\n      <td>NaN</td>\n      <td>90</td>\n      <td>['comedy']</td>\n      <td>['CO']</td>\n      <td>NaN</td>\n      <td>tt14585902</td>\n      <td>3.8</td>\n      <td>68.0</td>\n      <td>26.005</td>\n      <td>6.300</td>\n      <td>1950416</td>\n      <td>Julian Gaviria</td>\n      <td>NaN</td>\n      <td>DIRECTOR</td>\n    </tr>\n  </tbody>\n</table>\n<p>4550 rows × 19 columns</p>\n</div>"
     },
     "execution_count": 48,
     "metadata": {},
     "output_type": "execute_result"
    }
   ],
   "source": [
    "df_netflix = pd.merge(df, df2[df2[\"role\"] == \"DIRECTOR\"], on=[\"id\"])\n",
    "df_netflix"
   ],
   "metadata": {
    "collapsed": false
   }
  },
  {
   "cell_type": "code",
   "execution_count": 49,
   "outputs": [],
   "source": [
    "df_netflix.drop([\"person_id\", 'role', 'character'], inplace=True, axis=1)\n",
    "df_netflix.rename(columns={'name': 'director'}, inplace=True)"
   ],
   "metadata": {
    "collapsed": false
   }
  },
  {
   "cell_type": "code",
   "execution_count": 50,
   "outputs": [
    {
     "name": "stdout",
     "output_type": "stream",
     "text": [
      "<class 'pandas.core.frame.DataFrame'>\n",
      "Int64Index: 4550 entries, 0 to 4549\n",
      "Data columns (total 16 columns):\n",
      " #   Column                Non-Null Count  Dtype  \n",
      "---  ------                --------------  -----  \n",
      " 0   id                    4550 non-null   object \n",
      " 1   title                 4549 non-null   object \n",
      " 2   type                  4550 non-null   object \n",
      " 3   description           4546 non-null   object \n",
      " 4   release_year          4550 non-null   int64  \n",
      " 5   age_certification     2006 non-null   object \n",
      " 6   runtime               4550 non-null   int64  \n",
      " 7   genres                4550 non-null   object \n",
      " 8   production_countries  4550 non-null   object \n",
      " 9   seasons               679 non-null    float64\n",
      " 10  imdb_id               4222 non-null   object \n",
      " 11  imdb_score            4167 non-null   float64\n",
      " 12  imdb_votes            4148 non-null   float64\n",
      " 13  tmdb_popularity       4549 non-null   float64\n",
      " 14  tmdb_score            4419 non-null   float64\n",
      " 15  director              4550 non-null   object \n",
      "dtypes: float64(5), int64(2), object(9)\n",
      "memory usage: 604.3+ KB\n"
     ]
    }
   ],
   "source": [
    "df_netflix.info()"
   ],
   "metadata": {
    "collapsed": false
   }
  },
  {
   "cell_type": "code",
   "execution_count": null,
   "outputs": [],
   "source": [],
   "metadata": {
    "collapsed": false
   }
  }
 ],
 "metadata": {
  "kernelspec": {
   "display_name": "Python 3",
   "language": "python",
   "name": "python3"
  },
  "language_info": {
   "codemirror_mode": {
    "name": "ipython",
    "version": 2
   },
   "file_extension": ".py",
   "mimetype": "text/x-python",
   "name": "python",
   "nbconvert_exporter": "python",
   "pygments_lexer": "ipython2",
   "version": "2.7.6"
  }
 },
 "nbformat": 4,
 "nbformat_minor": 0
}
